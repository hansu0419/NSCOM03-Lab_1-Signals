{
 "cells": [
  {
   "cell_type": "markdown",
   "metadata": {},
   "source": [
    "## Section 2.1 - Analog Signal"
   ]
  },
  {
   "cell_type": "code",
   "execution_count": null,
   "metadata": {},
   "outputs": [],
   "source": [
    "import numpy as np\n",
    "import matplotlib.pyplot as plt\n",
    "\n",
    "frequency = 5\n",
    "sampling_rate = 1000\n",
    "duration = 1\n",
    "\n",
    "t = np.linspace(0, duration, int(sampling_rate * duration), endpoint=False)\n",
    "analog_signal = np.sin(2 * np.pi * frequency * t)\n",
    "\n",
    "plt.figure(figsize=(10, 4))\n",
    "plt.plot(t, analog_signal, label='Analog Signal')\n",
    "plt.title('Analog Signal')\n",
    "plt.xlabel('Time (seconds)')\n",
    "plt.ylabel('Amplitude')\n",
    "plt.grid(True)      \n",
    "plt.legend()\n",
    "plt.show()"
   ]
  },
  {
   "cell_type": "markdown",
   "metadata": {},
   "source": [
    "## Section 2.2 - Digital Signals"
   ]
  },
  {
   "cell_type": "code",
   "execution_count": null,
   "metadata": {},
   "outputs": [],
   "source": [
    "import numpy as np\n",
    "import matplotlib.pyplot as plt\n",
    "\n",
    "data_bits = [0.5, 0, 1, 1, 0, 0, -0.5, 0]\n",
    "\n",
    "num_bits = len(data_bits)\n",
    "fs = 100\n",
    "bit_duration = 1\n",
    "\n",
    "time = np.linspace(0, num_bits * bit_duration, num_bits * fs, endpoint=False)\n",
    "\n",
    "baseband_signal = np.repeat(data_bits, fs)\n",
    "\n",
    "plt.figure(figsize=(10, 4))\n",
    "plt.plot(time, baseband_signal, drawstyle='steps-pre', label='Digital Signal')\n",
    "plt.title('Digital Signal')\n",
    "plt.xlabel('Time (seconds)')\n",
    "plt.ylabel('Amplitude')\n",
    "plt.grid(True)\n",
    "plt.legend()\n",
    "plt.show()"
   ]
  },
  {
   "cell_type": "markdown",
   "metadata": {},
   "source": [
    "## Section 2.3 - Periodic Signals"
   ]
  },
  {
   "cell_type": "code",
   "execution_count": null,
   "metadata": {},
   "outputs": [],
   "source": [
    "import numpy as np\n",
    "import matplotlib.pyplot as plt\n",
    "\n",
    "frequency = 5\n",
    "sampling_rate = 1000\n",
    "duration = 1\n",
    "\n",
    "t = np.linspace(0, duration, int(sampling_rate * duration), endpoint=False)\n",
    "\n",
    "periodic_signal = np.sin(2 * np.pi * frequency * t)\n",
    "plt.figure(figsize=(12, 6))\n",
    "\n",
    "plt.subplot(1, 2, 1)\n",
    "plt.plot(t, periodic_signal)\n",
    "plt.title('Periodic Signal')\n",
    "plt.xlabel('Time (seconds)')\n",
    "plt.ylabel('Amplitude')\n",
    "plt.grid(True)\n",
    "plt.show()"
   ]
  },
  {
   "cell_type": "markdown",
   "metadata": {},
   "source": [
    "## Section 2.4 - Non-Periodic Signals"
   ]
  },
  {
   "cell_type": "code",
   "execution_count": null,
   "metadata": {},
   "outputs": [],
   "source": [
    "import numpy as np\n",
    "import matplotlib.pyplot as plt\n",
    "\n",
    "frequency = 5\n",
    "sampling_rate = 100\n",
    "duration = 1\n",
    "\n",
    "t = np.linspace(0, duration, int(sampling_rate * duration), endpoint=False)\n",
    "non_periodic_signal = np.random.randn(len(t))\n",
    "\n",
    "plt.figure(figsize=(12, 6))\n",
    "plt.subplot(1, 2, 2)\n",
    "plt.plot(t, non_periodic_signal)\n",
    "plt.title('Non-Periodic Signal')\n",
    "plt.xlabel('Time (seconds)')\n",
    "plt.ylabel('Amplitude')\n",
    "plt.grid(True)\n",
    "\n",
    "plt.tight_layout()\n",
    "plt.show()"
   ]
  },
  {
   "cell_type": "markdown",
   "metadata": {},
   "source": [
    "## Section 2.5 - Sine Waves"
   ]
  },
  {
   "cell_type": "code",
   "execution_count": null,
   "metadata": {},
   "outputs": [],
   "source": [
    "import numpy as np\n",
    "import matplotlib.pyplot as plt\n",
    "\n",
    "frequency = 8\n",
    "sampling_rate = 100\n",
    "duration = 1\n",
    "\n",
    "t = np.linspace(0, duration, int(sampling_rate * duration), endpoint=False)\n",
    "sine_wave = np.sin(2 * np.pi * frequency * t)\n",
    "\n",
    "plt.figure(figsize=(10, 4))\n",
    "plt.plot(t, sine_wave, label='Sine Wave')\n",
    "plt.title('Sine Wave')\n",
    "plt.xlabel('Time (seconds)')\n",
    "plt.ylabel('Amplitude')\n",
    "plt.grid(True)\n",
    "plt.legend()\n",
    "plt.show()"
   ]
  },
  {
   "cell_type": "markdown",
   "metadata": {},
   "source": [
    "## Section 2.6 - Sine Waves - Phase (Cosine Waves: Sine Waves but Degrees are different)"
   ]
  },
  {
   "cell_type": "code",
   "execution_count": null,
   "metadata": {},
   "outputs": [],
   "source": [
    "import numpy as np\n",
    "import matplotlib.pyplot as plt\n",
    "\n",
    "frequency = 5\n",
    "sampling_rate = 1000\n",
    "duration = 1\n",
    "phases = [0, 90, 180, 270]\n",
    "\n",
    "t = np.linspace(0, duration, int(sampling_rate * duration), endpoint=False)\n",
    "\n",
    "plt.figure(figsize=(12, 10))\n",
    "\n",
    "for i, phase in enumerate(phases):\n",
    "    plt.subplot(2, 2, i + 1) \n",
    "    phase_radians = np.deg2rad(phase) \n",
    "    sine_wave = np.sin(2 * np.pi * frequency * t + phase_radians)\n",
    "    plt.plot(t, sine_wave)\n",
    "    plt.title(f'Phase = {phase}°')\n",
    "    plt.xlabel('Time (seconds)')\n",
    "    plt.ylabel('Amplitude')\n",
    "    plt.grid(True)\n",
    "\n",
    "plt.tight_layout()\n",
    "plt.show()"
   ]
  },
  {
   "cell_type": "markdown",
   "metadata": {},
   "source": [
    "## Section 2.7 - Wavelength"
   ]
  },
  {
   "cell_type": "code",
   "execution_count": null,
   "metadata": {},
   "outputs": [],
   "source": [
    "import numpy as np\n",
    "import matplotlib.pyplot as plt\n",
    "\n",
    "frequency = 5 \n",
    "amplitude = 1 \n",
    "time_period = 1  \n",
    "sample_rate = 1000\n",
    "\n",
    "t = np.linspace(0, time_period, int(sample_rate * time_period), endpoint=False)\n",
    "waveform = amplitude * np.sin(2 * np.pi * frequency * t)\n",
    "\n",
    "plt.figure(figsize=(10, 4))\n",
    "plt.plot(t, waveform, label='Waveform at time $t$')\n",
    "plt.plot(t + time_period, waveform, label='Waveform at time $t + T$', linestyle='--')\n",
    "plt.title('Waveform')\n",
    "plt.legend()\n",
    "plt.grid(True)\n",
    "plt.show()"
   ]
  },
  {
   "cell_type": "markdown",
   "metadata": {},
   "source": [
    "## Section 2.8 - Composite Signal"
   ]
  },
  {
   "cell_type": "code",
   "execution_count": null,
   "metadata": {},
   "outputs": [],
   "source": []
  },
  {
   "cell_type": "markdown",
   "metadata": {},
   "source": [
    "## Section 2.9 - Bandwidth"
   ]
  },
  {
   "cell_type": "code",
   "execution_count": null,
   "metadata": {},
   "outputs": [],
   "source": [
    "import numpy as np\n",
    "import matplotlib.pyplot as plt\n",
    "\n",
    "start_freq = 1000  \n",
    "end_freq = 5000    \n",
    "peak_freq = 3000 \n",
    "std_dev = 500      \n",
    "\n",
    "frequencies = np.arange(start_freq, end_freq + 100, 100)  \n",
    "\n",
    "def amplitude_function(freq):\n",
    "    return 100 * np.exp(-0.5 * ((freq - peak_freq) / std_dev) ** 2)\n",
    "\n",
    "amplitudes = amplitude_function(frequencies)\n",
    "\n",
    "plt.figure(figsize=(10, 5))\n",
    "plt.bar(frequencies, amplitudes, width=50, color='blue', align='center') \n",
    "plt.title('Bandwidth')\n",
    "plt.xlabel('Frequency (Hz)')\n",
    "plt.ylabel('Amplitude')\n",
    "plt.grid(True, linestyle='--', linewidth=0.5)\n",
    "plt.show()"
   ]
  }
 ],
 "metadata": {
  "kernelspec": {
   "display_name": "Python 3",
   "language": "python",
   "name": "python3"
  },
  "language_info": {
   "name": "python",
   "version": "3.11.7"
  }
 },
 "nbformat": 4,
 "nbformat_minor": 2
}
